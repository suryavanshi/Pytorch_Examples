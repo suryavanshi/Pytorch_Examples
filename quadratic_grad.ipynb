{
 "cells": [
  {
   "cell_type": "code",
   "execution_count": 62,
   "metadata": {},
   "outputs": [],
   "source": [
    "import torch\n",
    "import numpy as np"
   ]
  },
  {
   "cell_type": "code",
   "execution_count": 63,
   "metadata": {},
   "outputs": [
    {
     "data": {
      "text/plain": [
       "tensor([-2.0000, -1.9394, -1.8788, -1.8182, -1.7576, -1.6970, -1.6364,\n",
       "        -1.5758, -1.5152, -1.4545, -1.3939, -1.3333, -1.2727, -1.2121,\n",
       "        -1.1515, -1.0909, -1.0303, -0.9697, -0.9091, -0.8485, -0.7879,\n",
       "        -0.7273, -0.6667, -0.6061, -0.5455, -0.4848, -0.4242, -0.3636,\n",
       "        -0.3030, -0.2424, -0.1818, -0.1212, -0.0606,  0.0000,  0.0606,\n",
       "         0.1212,  0.1818,  0.2424,  0.3030,  0.3636,  0.4242,  0.4848,\n",
       "         0.5455,  0.6061,  0.6667,  0.7273,  0.7879,  0.8485,  0.9091,\n",
       "         0.9697,  1.0303,  1.0909,  1.1515,  1.2121,  1.2727,  1.3333,\n",
       "         1.3939,  1.4545,  1.5152,  1.5758,  1.6364,  1.6970,  1.7576,\n",
       "         1.8182,  1.8788,  1.9394,  2.0000,  2.0606,  2.1212,  2.1818,\n",
       "         2.2424,  2.3030,  2.3636,  2.4242,  2.4848,  2.5455,  2.6061,\n",
       "         2.6667,  2.7273,  2.7879,  2.8485,  2.9091,  2.9697,  3.0303,\n",
       "         3.0909,  3.1515,  3.2121,  3.2727,  3.3333,  3.3939,  3.4545,\n",
       "         3.5152,  3.5758,  3.6364,  3.6970,  3.7576,  3.8182,  3.8788,\n",
       "         3.9394,  4.0000])"
      ]
     },
     "execution_count": 63,
     "metadata": {},
     "output_type": "execute_result"
    }
   ],
   "source": [
    "x=torch.Tensor(np.linspace(-2,4,100))\n",
    "\n",
    "x.requires_grad_(True)"
   ]
  },
  {
   "cell_type": "code",
   "execution_count": 64,
   "metadata": {},
   "outputs": [],
   "source": [
    "y = x**2-2*x - 3"
   ]
  },
  {
   "cell_type": "code",
   "execution_count": 65,
   "metadata": {},
   "outputs": [],
   "source": [
    "target=-1"
   ]
  },
  {
   "cell_type": "code",
   "execution_count": 66,
   "metadata": {},
   "outputs": [],
   "source": [
    "ind = np.where(x.data.numpy() >=target)[0][0]"
   ]
  },
  {
   "cell_type": "code",
   "execution_count": 67,
   "metadata": {},
   "outputs": [
    {
     "data": {
      "text/plain": [
       "17"
      ]
     },
     "execution_count": 67,
     "metadata": {},
     "output_type": "execute_result"
    }
   ],
   "source": [
    "ind"
   ]
  },
  {
   "cell_type": "code",
   "execution_count": 68,
   "metadata": {},
   "outputs": [
    {
     "data": {
      "text/plain": [
       "torch.Size([100])"
      ]
     },
     "execution_count": 68,
     "metadata": {},
     "output_type": "execute_result"
    }
   ],
   "source": [
    "x.size()"
   ]
  },
  {
   "cell_type": "code",
   "execution_count": 69,
   "metadata": {},
   "outputs": [],
   "source": [
    "gradients=torch.zeros(1,100)"
   ]
  },
  {
   "cell_type": "code",
   "execution_count": 70,
   "metadata": {},
   "outputs": [
    {
     "data": {
      "text/plain": [
       "torch.Size([1, 100])"
      ]
     },
     "execution_count": 70,
     "metadata": {},
     "output_type": "execute_result"
    }
   ],
   "source": [
    "gradients.size()"
   ]
  },
  {
   "cell_type": "code",
   "execution_count": 73,
   "metadata": {},
   "outputs": [],
   "source": [
    "gradients[0][ind]=1"
   ]
  },
  {
   "cell_type": "code",
   "execution_count": 74,
   "metadata": {},
   "outputs": [],
   "source": [
    "y.backward(gradients)"
   ]
  },
  {
   "cell_type": "code",
   "execution_count": 75,
   "metadata": {},
   "outputs": [
    {
     "data": {
      "text/plain": [
       "torch.Size([1, 100])"
      ]
     },
     "execution_count": 75,
     "metadata": {},
     "output_type": "execute_result"
    }
   ],
   "source": [
    "x.grad.size()"
   ]
  },
  {
   "cell_type": "code",
   "execution_count": 77,
   "metadata": {},
   "outputs": [
    {
     "data": {
      "text/plain": [
       "tensor(-3.9394)"
      ]
     },
     "execution_count": 77,
     "metadata": {},
     "output_type": "execute_result"
    }
   ],
   "source": [
    "x.grad[0][ind]"
   ]
  },
  {
   "cell_type": "code",
   "execution_count": null,
   "metadata": {},
   "outputs": [],
   "source": []
  }
 ],
 "metadata": {
  "kernelspec": {
   "display_name": "Python 3",
   "language": "python",
   "name": "python3"
  },
  "language_info": {
   "codemirror_mode": {
    "name": "ipython",
    "version": 3
   },
   "file_extension": ".py",
   "mimetype": "text/x-python",
   "name": "python",
   "nbconvert_exporter": "python",
   "pygments_lexer": "ipython3",
   "version": "3.6.4"
  }
 },
 "nbformat": 4,
 "nbformat_minor": 2
}
